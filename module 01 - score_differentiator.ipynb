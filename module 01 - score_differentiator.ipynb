{
 "cells": [
  {
   "cell_type": "markdown",
   "id": "b973482f",
   "metadata": {},
   "source": [
    "Note - This is a simple script to calculate the margin of victory of University of Illinois Football games\n",
    "\n",
    "I used MS Copilot to help with the coding."
   ]
  },
  {
   "cell_type": "code",
   "execution_count": 2,
   "id": "bc6ac83c",
   "metadata": {},
   "outputs": [],
   "source": [
    "from datetime import datetime\n"
   ]
  },
  {
   "cell_type": "code",
   "execution_count": 3,
   "id": "ee303c8f",
   "metadata": {},
   "outputs": [],
   "source": [
    "\"\"\" List of games with opponent and date (formatted as YYYY-MM-DD) \"\"\" \n",
    "games = [\n",
    "    {\"date\": \"2025-08-29\", \"opponent\": \"Western IL\"},\n",
    "    {\"date\": \"2025-09-06\", \"opponent\": \"Duke\"},\n",
    "    {\"date\": \"2025-09-13\", \"opponent\": \"WMU\"},\n",
    "    {\"date\": \"2025-09-20\", \"opponent\": \"Indiana\"},\n",
    "    {\"date\": \"2025-09-27\", \"opponent\": \"USC\"},\n",
    "    {\"date\": \"2025-10-04\", \"opponent\": \"Purdue\"},\n",
    "    {\"date\": \"2025-10-11\", \"opponent\": \"Ohio State\"},\n",
    "    {\"date\": \"2025-10-25\", \"opponent\": \"Washington\"},\n",
    "    {\"date\": \"2025-11-01\", \"opponent\": \"Rutgers\"},\n",
    "    {\"date\": \"2025-11-15\", \"opponent\": \"Maryland\"},\n",
    "    {\"date\": \"2025-11-22\", \"opponent\": \"Wisconsin\"},\n",
    "    {\"date\": \"2025-11-29\", \"opponent\": \"Northwestern\"}\n",
    "]\n",
    "\n",
    "\"\"\" Sort games by date (in case they aren't already) \"\"\"\n",
    "games.sort(key=lambda x: x[\"date\"])\n"
   ]
  },
  {
   "cell_type": "code",
   "execution_count": 4,
   "id": "bb4c196d",
   "metadata": {},
   "outputs": [],
   "source": [
    "\"\"\" Create a dictionary to store score differences \"\"\"\n",
    "score_diffs = {}\n"
   ]
  },
  {
   "cell_type": "code",
   "execution_count": null,
   "id": "4c1254ef",
   "metadata": {},
   "outputs": [
    {
     "name": "stdout",
     "output_type": "stream",
     "text": [
      "\n",
      "🏈 Game on Aug 29, 2025 vs Western IL\n",
      "\n",
      "🏈 Game on Sep 06, 2025 vs Duke\n",
      "⚠️ Invalid input. Skipping this game.\n",
      "\n",
      "🏈 Game on Sep 13, 2025 vs WMU\n",
      "⚠️ Invalid input. Skipping this game.\n",
      "\n",
      "🏈 Game on Sep 20, 2025 vs Indiana\n",
      "⚠️ Invalid input. Skipping this game.\n",
      "\n",
      "🏈 Game on Sep 27, 2025 vs USC\n",
      "⚠️ Invalid input. Skipping this game.\n",
      "\n",
      "🏈 Game on Oct 04, 2025 vs Purdue\n",
      "⚠️ Invalid input. Skipping this game.\n",
      "\n",
      "🏈 Game on Oct 11, 2025 vs Ohio State\n",
      "⚠️ Invalid input. Skipping this game.\n",
      "\n",
      "🏈 Game on Oct 25, 2025 vs Washington\n",
      "⚠️ Invalid input. Skipping this game.\n",
      "\n",
      "🏈 Game on Nov 01, 2025 vs Rutgers\n",
      "⚠️ Invalid input. Skipping this game.\n",
      "\n",
      "🏈 Game on Nov 15, 2025 vs Maryland\n",
      "⚠️ Invalid input. Skipping this game.\n",
      "\n",
      "🏈 Game on Nov 22, 2025 vs Wisconsin\n",
      "⚠️ Invalid input. Skipping this game.\n",
      "\n",
      "🏈 Game on Nov 29, 2025 vs Northwestern\n",
      "⚠️ Invalid input. Skipping this game.\n"
     ]
    }
   ],
   "source": [
    "\"\"\" Prompt user for scores \"\"\"\n",
    "\n",
    "for game in games:\n",
    "    date_str = datetime.strptime(\n",
    "        game[\"date\"], \"%Y-%m-%d\"\n",
    "        ).strftime(\"%b %d, %Y\")\n",
    "    opponent = game[\"opponent\"]\n",
    "    print(f\"\\n🏈 Game on {date_str} vs {opponent}\")\n",
    "    try:\n",
    "        illinois_score = int(input(\"Enter University of Illinois score: \"))\n",
    "        opponent_score = int(input(f\"Enter {opponent}'s score: \"))\n",
    "        diff = illinois_score - opponent_score\n",
    "        score_diffs[opponent] = {\n",
    "            \"date\": date_str,\n",
    "            \"illinois\": illinois_score,\n",
    "            \"opponent\": opponent_score,\n",
    "            \"diff\": diff,\n",
    "        }\n",
    "    except ValueError:\n",
    "        print(\"⚠️ Invalid input. Skipping this game.\")\n",
    "        continue\n"
   ]
  },
  {
   "cell_type": "code",
   "execution_count": 6,
   "id": "d7a1ff38",
   "metadata": {},
   "outputs": [
    {
     "name": "stdout",
     "output_type": "stream",
     "text": [
      "\n",
      "📊 Game Results Summary:\n",
      "Aug 29, 2025: Illinois won by 49 vs Western IL (52 - 3)\n"
     ]
    }
   ],
   "source": [
    "# Print summary\n",
    "print(\"\\n📊 Game Results Summary:\")\n",
    "for opponent, data in score_diffs.items():\n",
    "    result = \"won by\" if data[\"diff\"] > 0 else \"lost by\" if data[\"diff\"] < 0 else \"tied with\"\n",
    "    print(f\"{data['date']}: Illinois {result} {abs(data['diff'])} vs {opponent} \"\n",
    "          f\"({data['illinois']} - {data['opponent']})\")\n"
   ]
  }
 ],
 "metadata": {
  "kernelspec": {
   "display_name": "base",
   "language": "python",
   "name": "python3"
  },
  "language_info": {
   "codemirror_mode": {
    "name": "ipython",
    "version": 3
   },
   "file_extension": ".py",
   "mimetype": "text/x-python",
   "name": "python",
   "nbconvert_exporter": "python",
   "pygments_lexer": "ipython3",
   "version": "3.11.6"
  }
 },
 "nbformat": 4,
 "nbformat_minor": 5
}
